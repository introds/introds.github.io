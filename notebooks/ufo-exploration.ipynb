{
 "cells": [
  {
   "cell_type": "code",
   "execution_count": 2,
   "metadata": {},
   "outputs": [],
   "source": [
    "%matplotlib inline\n",
    "\n",
    "import warnings\n",
    "import pandas as pd\n",
    "import numpy as np\n",
    "import seaborn as sns\n",
    "import matplotlib.pyplot as plt"
   ]
  },
  {
   "cell_type": "code",
   "execution_count": 3,
   "metadata": {},
   "outputs": [
    {
     "data": {
      "text/html": [
       "<div>\n",
       "<style scoped>\n",
       "    .dataframe tbody tr th:only-of-type {\n",
       "        vertical-align: middle;\n",
       "    }\n",
       "\n",
       "    .dataframe tbody tr th {\n",
       "        vertical-align: top;\n",
       "    }\n",
       "\n",
       "    .dataframe thead th {\n",
       "        text-align: right;\n",
       "    }\n",
       "</style>\n",
       "<table border=\"1\" class=\"dataframe\">\n",
       "  <thead>\n",
       "    <tr style=\"text-align: right;\">\n",
       "      <th></th>\n",
       "      <th>datetime</th>\n",
       "      <th>city</th>\n",
       "      <th>state</th>\n",
       "      <th>country</th>\n",
       "      <th>shape</th>\n",
       "      <th>latitude</th>\n",
       "      <th>longitude</th>\n",
       "      <th>duration</th>\n",
       "      <th>hour</th>\n",
       "      <th>day</th>\n",
       "      <th>month</th>\n",
       "      <th>year</th>\n",
       "    </tr>\n",
       "  </thead>\n",
       "  <tbody>\n",
       "    <tr>\n",
       "      <th>0</th>\n",
       "      <td>1949-10-10 20:30:00</td>\n",
       "      <td>san marcos</td>\n",
       "      <td>tx</td>\n",
       "      <td>us</td>\n",
       "      <td>cylinder</td>\n",
       "      <td>29.883056</td>\n",
       "      <td>-97.941111</td>\n",
       "      <td>2700.0</td>\n",
       "      <td>20</td>\n",
       "      <td>10</td>\n",
       "      <td>10</td>\n",
       "      <td>1949</td>\n",
       "    </tr>\n",
       "    <tr>\n",
       "      <th>1</th>\n",
       "      <td>1949-10-10 21:00:00</td>\n",
       "      <td>lackland afb</td>\n",
       "      <td>tx</td>\n",
       "      <td>us</td>\n",
       "      <td>light</td>\n",
       "      <td>29.384210</td>\n",
       "      <td>-98.581082</td>\n",
       "      <td>7200.0</td>\n",
       "      <td>21</td>\n",
       "      <td>10</td>\n",
       "      <td>10</td>\n",
       "      <td>1949</td>\n",
       "    </tr>\n",
       "    <tr>\n",
       "      <th>2</th>\n",
       "      <td>1956-10-10 21:00:00</td>\n",
       "      <td>edna</td>\n",
       "      <td>tx</td>\n",
       "      <td>us</td>\n",
       "      <td>circle</td>\n",
       "      <td>28.978333</td>\n",
       "      <td>-96.645833</td>\n",
       "      <td>20.0</td>\n",
       "      <td>21</td>\n",
       "      <td>10</td>\n",
       "      <td>10</td>\n",
       "      <td>1956</td>\n",
       "    </tr>\n",
       "    <tr>\n",
       "      <th>3</th>\n",
       "      <td>1960-10-10 20:00:00</td>\n",
       "      <td>kaneohe</td>\n",
       "      <td>hi</td>\n",
       "      <td>us</td>\n",
       "      <td>light</td>\n",
       "      <td>21.418056</td>\n",
       "      <td>-157.803611</td>\n",
       "      <td>900.0</td>\n",
       "      <td>20</td>\n",
       "      <td>10</td>\n",
       "      <td>10</td>\n",
       "      <td>1960</td>\n",
       "    </tr>\n",
       "    <tr>\n",
       "      <th>4</th>\n",
       "      <td>1961-10-10 19:00:00</td>\n",
       "      <td>bristol</td>\n",
       "      <td>tn</td>\n",
       "      <td>us</td>\n",
       "      <td>sphere</td>\n",
       "      <td>36.595000</td>\n",
       "      <td>-82.188889</td>\n",
       "      <td>300.0</td>\n",
       "      <td>19</td>\n",
       "      <td>10</td>\n",
       "      <td>10</td>\n",
       "      <td>1961</td>\n",
       "    </tr>\n",
       "  </tbody>\n",
       "</table>\n",
       "</div>"
      ],
      "text/plain": [
       "              datetime          city state country     shape   latitude  \\\n",
       "0  1949-10-10 20:30:00    san marcos    tx      us  cylinder  29.883056   \n",
       "1  1949-10-10 21:00:00  lackland afb    tx      us     light  29.384210   \n",
       "2  1956-10-10 21:00:00          edna    tx      us    circle  28.978333   \n",
       "3  1960-10-10 20:00:00       kaneohe    hi      us     light  21.418056   \n",
       "4  1961-10-10 19:00:00       bristol    tn      us    sphere  36.595000   \n",
       "\n",
       "    longitude  duration  hour  day  month  year  \n",
       "0  -97.941111    2700.0    20   10     10  1949  \n",
       "1  -98.581082    7200.0    21   10     10  1949  \n",
       "2  -96.645833      20.0    21   10     10  1956  \n",
       "3 -157.803611     900.0    20   10     10  1960  \n",
       "4  -82.188889     300.0    19   10     10  1961  "
      ]
     },
     "execution_count": 3,
     "metadata": {},
     "output_type": "execute_result"
    }
   ],
   "source": [
    "df = pd.read_csv(\"../data/cleaned.csv\")\n",
    "df.head()"
   ]
  },
  {
   "cell_type": "markdown",
   "metadata": {},
   "source": [
    "### What areas of the country are most likely to have UFO sightings?"
   ]
  },
  {
   "cell_type": "code",
   "execution_count": 4,
   "metadata": {},
   "outputs": [
    {
     "data": {
      "text/plain": [
<<<<<<< HEAD
       "<matplotlib.axes._subplots.AxesSubplot at 0x10f175ac8>"
=======
       "<matplotlib.axes._subplots.AxesSubplot at 0x1a1a55ceb8>"
>>>>>>> f4e2df9bea9908523f3e4f0c2b1641ffa9c27782
      ]
     },
     "execution_count": 4,
     "metadata": {},
     "output_type": "execute_result"
    },
    {
     "data": {
<<<<<<< HEAD
      "image/png": "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\n",
      "text/plain": [
       "<matplotlib.figure.Figure at 0x10f1752e8>"
=======
      "image/png": "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\n",
      "text/plain": [
       "<Figure size 432x288 with 1 Axes>"
>>>>>>> f4e2df9bea9908523f3e4f0c2b1641ffa9c27782
      ]
     },
     "metadata": {
      "needs_background": "light"
     },
     "output_type": "display_data"
    }
   ],
   "source": [
    "temp = df.country.value_counts()\n",
    "sns.barplot(temp.index, temp.values)"
   ]
  },
  {
   "cell_type": "markdown",
   "metadata": {},
   "source": [
    "**TODO: is there difference between US's UFO and the world's?**"
   ]
  },
  {
   "cell_type": "code",
   "execution_count": 5,
   "metadata": {},
   "outputs": [
    {
     "data": {
      "text/html": [
       "<div>\n",
       "<style scoped>\n",
       "    .dataframe tbody tr th:only-of-type {\n",
       "        vertical-align: middle;\n",
       "    }\n",
       "\n",
       "    .dataframe tbody tr th {\n",
       "        vertical-align: top;\n",
       "    }\n",
       "\n",
       "    .dataframe thead th {\n",
       "        text-align: right;\n",
       "    }\n",
       "</style>\n",
       "<table border=\"1\" class=\"dataframe\">\n",
       "  <thead>\n",
       "    <tr style=\"text-align: right;\">\n",
       "      <th></th>\n",
       "      <th>datetime</th>\n",
       "      <th>city</th>\n",
       "      <th>state</th>\n",
       "      <th>country</th>\n",
       "      <th>shape</th>\n",
       "      <th>latitude</th>\n",
       "      <th>longitude</th>\n",
       "      <th>duration</th>\n",
       "      <th>hour</th>\n",
       "      <th>day</th>\n",
       "      <th>month</th>\n",
       "      <th>year</th>\n",
       "    </tr>\n",
       "  </thead>\n",
       "  <tbody>\n",
       "    <tr>\n",
       "      <th>0</th>\n",
       "      <td>1949-10-10 20:30:00</td>\n",
       "      <td>san marcos</td>\n",
       "      <td>tx</td>\n",
       "      <td>us</td>\n",
       "      <td>cylinder</td>\n",
       "      <td>29.883056</td>\n",
       "      <td>-97.941111</td>\n",
       "      <td>2700.0</td>\n",
       "      <td>20</td>\n",
       "      <td>10</td>\n",
       "      <td>10</td>\n",
       "      <td>1949</td>\n",
       "    </tr>\n",
       "    <tr>\n",
       "      <th>1</th>\n",
       "      <td>1949-10-10 21:00:00</td>\n",
       "      <td>lackland afb</td>\n",
       "      <td>tx</td>\n",
       "      <td>us</td>\n",
       "      <td>light</td>\n",
       "      <td>29.384210</td>\n",
       "      <td>-98.581082</td>\n",
       "      <td>7200.0</td>\n",
       "      <td>21</td>\n",
       "      <td>10</td>\n",
       "      <td>10</td>\n",
       "      <td>1949</td>\n",
       "    </tr>\n",
       "    <tr>\n",
       "      <th>2</th>\n",
       "      <td>1956-10-10 21:00:00</td>\n",
       "      <td>edna</td>\n",
       "      <td>tx</td>\n",
       "      <td>us</td>\n",
       "      <td>circle</td>\n",
       "      <td>28.978333</td>\n",
       "      <td>-96.645833</td>\n",
       "      <td>20.0</td>\n",
       "      <td>21</td>\n",
       "      <td>10</td>\n",
       "      <td>10</td>\n",
       "      <td>1956</td>\n",
       "    </tr>\n",
       "    <tr>\n",
       "      <th>3</th>\n",
       "      <td>1960-10-10 20:00:00</td>\n",
       "      <td>kaneohe</td>\n",
       "      <td>hi</td>\n",
       "      <td>us</td>\n",
       "      <td>light</td>\n",
       "      <td>21.418056</td>\n",
       "      <td>-157.803611</td>\n",
       "      <td>900.0</td>\n",
       "      <td>20</td>\n",
       "      <td>10</td>\n",
       "      <td>10</td>\n",
       "      <td>1960</td>\n",
       "    </tr>\n",
       "    <tr>\n",
       "      <th>4</th>\n",
       "      <td>1961-10-10 19:00:00</td>\n",
       "      <td>bristol</td>\n",
       "      <td>tn</td>\n",
       "      <td>us</td>\n",
       "      <td>sphere</td>\n",
       "      <td>36.595000</td>\n",
       "      <td>-82.188889</td>\n",
       "      <td>300.0</td>\n",
       "      <td>19</td>\n",
       "      <td>10</td>\n",
       "      <td>10</td>\n",
       "      <td>1961</td>\n",
       "    </tr>\n",
       "  </tbody>\n",
       "</table>\n",
       "</div>"
      ],
      "text/plain": [
       "              datetime          city state country     shape   latitude  \\\n",
       "0  1949-10-10 20:30:00    san marcos    tx      us  cylinder  29.883056   \n",
       "1  1949-10-10 21:00:00  lackland afb    tx      us     light  29.384210   \n",
       "2  1956-10-10 21:00:00          edna    tx      us    circle  28.978333   \n",
       "3  1960-10-10 20:00:00       kaneohe    hi      us     light  21.418056   \n",
       "4  1961-10-10 19:00:00       bristol    tn      us    sphere  36.595000   \n",
       "\n",
       "    longitude  duration  hour  day  month  year  \n",
       "0  -97.941111    2700.0    20   10     10  1949  \n",
       "1  -98.581082    7200.0    21   10     10  1949  \n",
       "2  -96.645833      20.0    21   10     10  1956  \n",
       "3 -157.803611     900.0    20   10     10  1960  \n",
       "4  -82.188889     300.0    19   10     10  1961  "
      ]
     },
     "execution_count": 5,
     "metadata": {},
     "output_type": "execute_result"
    }
   ],
   "source": [
    "# Seem like US data dominates, for now we analyse US data only\n",
    "df_us = df[df.country == \"us\"]\n",
    "df_us.head()"
   ]
  },
  {
   "cell_type": "code",
   "execution_count": 6,
   "metadata": {},
   "outputs": [
    {
     "data": {
      "text/plain": [
<<<<<<< HEAD
       "<matplotlib.axes._subplots.AxesSubplot at 0x10fb9d748>"
=======
       "<matplotlib.axes._subplots.AxesSubplot at 0x1a16e3b198>"
>>>>>>> f4e2df9bea9908523f3e4f0c2b1641ffa9c27782
      ]
     },
     "execution_count": 6,
     "metadata": {},
     "output_type": "execute_result"
    },
    {
     "data": {
<<<<<<< HEAD
      "image/png": "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\n",
      "text/plain": [
       "<matplotlib.figure.Figure at 0x1105e7c88>"
=======
      "image/png": "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\n",
      "text/plain": [
       "<Figure size 432x288 with 1 Axes>"
>>>>>>> f4e2df9bea9908523f3e4f0c2b1641ffa9c27782
      ]
     },
     "metadata": {
      "needs_background": "light"
     },
     "output_type": "display_data"
    }
   ],
   "source": [
    "temp = df.state.value_counts()[:10]\n",
    "sns.barplot(temp.index, temp.values, color=\"c\")"
   ]
  },
  {
   "cell_type": "markdown",
   "metadata": {},
   "source": [
    "**Why there's abnormal UFO sights in California?**"
   ]
  },
  {
   "cell_type": "markdown",
   "metadata": {},
   "source": [
    "### Are there any trends in UFO sightings over time? Do they tend to be clustered or seasonal?"
   ]
  },
  {
   "cell_type": "code",
<<<<<<< HEAD
   "execution_count": 16,
=======
   "execution_count": 7,
>>>>>>> f4e2df9bea9908523f3e4f0c2b1641ffa9c27782
   "metadata": {},
   "outputs": [
    {
     "data": {
      "text/plain": [
<<<<<<< HEAD
       "<matplotlib.axes._subplots.AxesSubplot at 0x11e2695c0>"
      ]
     },
     "execution_count": 16,
=======
       "<matplotlib.axes._subplots.AxesSubplot at 0x1a16ebdef0>"
      ]
     },
     "execution_count": 7,
>>>>>>> f4e2df9bea9908523f3e4f0c2b1641ffa9c27782
     "metadata": {},
     "output_type": "execute_result"
    },
    {
     "data": {
<<<<<<< HEAD
      "image/png": "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\n",
      "text/plain": [
       "<matplotlib.figure.Figure at 0x11e2c3908>"
=======
      "image/png": "iVBORw0KGgoAAAANSUhEUgAAAYAAAAD8CAYAAAB+UHOxAAAABHNCSVQICAgIfAhkiAAAAAlwSFlzAAALEgAACxIB0t1+/AAAADl0RVh0U29mdHdhcmUAbWF0cGxvdGxpYiB2ZXJzaW9uIDIuMi4zLCBodHRwOi8vbWF0cGxvdGxpYi5vcmcvIxREBQAAIABJREFUeJzt3Xt0lNd57/HvMyONJCRxlwALML5gx8YxNubYNEmTJm7wJW3waePGbU7NcbxKT+v2JCvpaZ02Z7lJmrOSrK5cvNok9ard4iatS5Impqkbl+Nc2vrExGBsbGxj5AsgBEggARpdZjQzz/lj9uBB6ArSXH+ftWbNO/vd8757M2ie2bf3NXdHRESqT6TYBRARkeJQABARqVIKACIiVUoBQESkSikAiIhUKQUAEZEqpQAgIlKlFABERKqUAoCISJWqKXYBxrNw4UJfsWJFsYshIlJWdu7ceczdWybKV9IBYMWKFezYsaPYxRARKStmtn8y+dQFJCJSpRQARESqlAKAiEiVUgAQEalSCgAiIlVKAUBEpEopAIiIVCkFABGRItnV18dPTpwo2vkVAEREiuR/v/46t73wAoPpdFHOrwAgIlIkJ9NpTqRSbOnuLsr5FQBERIokHn75f72zsyjnVwAQESmSvlSKWjOeOnWKZ/v6Cn5+BQARkSKJp9PctnAh9ZEIf3X4cMHPP2EAMLPLzezZvMcpM/uomc03s21mti88zwv5zczuN7N2M9ttZmvyjrUx5N9nZhtnsmIiIqWuL51meV0dH2xp4RtHj9KXShX0/BMGAHff6+7XuPs1wHXAAPBd4F7gCXdfCTwRXgPcAqwMj03A1wDMbD5wH3ADcD1wXy5oiIhUm7Q7A5kMzTU1/I8LLiCeTvP3XV0FLcNUu4BuBF519/3ABmBzSN8M3Ba2NwAPe9ZTwFwzWwLcBGxz9x537wW2ATefdw1ERMpQfxgAbopGuWH2bN4yaxbfO3asoGWYagC4A/iHsL3I3Q8DhOfWkN4GHMx7T0dIGytdRKTqxPMCgJmxOBZjoMDrASYdAMwsBrwf+NZEWUdJ83HSR55nk5ntMLMd3UWaGysiMtP6wpd9czQKQK0ZST/rK3FGTaUFcAvwjLsfDa+Phq4dwnOu86oDWJb3vqVA5zjpZ3D3B9x9rbuvbWmZ8JaWIiJlKb8FABAzYziTKWgZphIAfp03u38AtgK5mTwbgUfz0u8Ms4HWASdDF9HjwHozmxcGf9eHNBGRqpOb8ZNrAcQikYK3ACZ1U3gzmwW8F/jtvOTPAVvM7G7gAHB7SH8MuBVoJztj6C4Ad+8xs88AT4d8n3b3nvOugYhIGRqtBZAscAtgUgHA3QeABSPSjpOdFTQyrwP3jHGch4CHpl5MEZHKMnIMoBgtAK0EFhEpgpEtgFozhhUAREQq3+kWQE22IyYWiRS8C0gBQESkCHItgMZI9ms4VuLTQEVEZJr0pdM0RCLU5AKAWgAiItUhnk6f7v+H0l8IJiIi06QvlTo9AwiyXUApd7yAQUABQESkCEa2AGKhK6iQM4EUAEREiqAvnT6rBQAUdBxAAUBEpAjGagEUchxAAUBEpAj60unTawAgOwgMagGIiFQ8jQGIiFSp+FhjAAoAIiKVy93pG2sMQF1AIiKVK+lOyl0tABGRapO7GczIlcBAQe8KpgAgIlJg8RH3AgBNAxURqQp9I+4FAFoIJiJSFUbeDAZKuAVgZnPN7Ntm9rKZvWRmP2dm881sm5ntC8/zQl4zs/vNrN3MdpvZmrzjbAz595nZxrHPKCJSuUbeDAZKuwXwFeAH7v4WYDXwEnAv8IS7rwSeCK8BbgFWhscm4GsAZjYfuA+4AbgeuC8XNEREqsloLYDaUlwIZmazgXcCDwK4e9LdTwAbgM0h22bgtrC9AXjYs54C5prZEuAmYJu797h7L7ANuHlaayMiUgZG3hAeSnca6MVAN/A3ZrbLzP7azBqBRe5+GCA8t4b8bcDBvPd3hLSx0kVEqsq4YwAl1gVUA6wBvubu1wL9vNndMxobJc3HST/zzWabzGyHme3o7u6eRPFERMpLbh1AObQAOoAOd98eXn+bbEA4Grp2CM9defmX5b1/KdA5TvoZ3P0Bd1/r7mtbWlqmUhcRkbIQT6eJAPWRN7+CS3IhmLsfAQ6a2eUh6UbgRWArkJvJsxF4NGxvBe4Ms4HWASdDF9HjwHozmxcGf9eHNBGRqpK7GYzZmx0jxZgGWjNxFgB+H/immcWA14C7yAaPLWZ2N3AAuD3kfQy4FWgHBkJe3L3HzD4DPB3yfdrde6alFiIiZWTkpaChONNAJxUA3P1ZYO0ou24cJa8D94xxnIeAh6ZSQBGRSjPyZjBQwgvBRERk+ozWAtAdwUREqsDIG8IDmBk1ZqW1EExERKbXaC0AyI4DqAtIRKSC9aVSZ7UAIDsOoC4gEZEKphaAiEiVGm0MANQCEBGpaGl3BjKZUVsAtRoEFhGpXP2j3AsgJ2amFoCISKUa7UqgObFIRGMAIiKVarR7AeSoBSAiUsHGawHURiIaAxARqVSj3QsgR9NARUQq2IRjAOoCEhGpTOMGALUAREQq17iDwGoBiIhUrnEHgbUQTESkcvVN1AWkFoCISGWKp9PURyLURM7++i3JhWBm9oaZPW9mz5rZjpA238y2mdm+8DwvpJuZ3W9m7Wa228zW5B1nY8i/z8w2jnU+EZFKNdaF4KC0WwDvdvdr3D13b+B7gSfcfSXwRHgNcAuwMjw2AV+DbMAA7gNuAK4H7ssFDRGRatEzPMzcUa4DBNkWQLmMAWwANoftzcBteekPe9ZTwFwzWwLcBGxz9x537wW2ATefx/lFRMrO/qEhltfVjbqvtkSngTrwb2a208w2hbRF7n4YIDy3hvQ24GDeeztC2ljpIiJVY38iwYr6+lH3FXoa6OjtkLO93d07zawV2GZmL4+T10ZJ83HSz3xzNsBsAli+fPkkiyciUvqG0mmOJJNcOFYACC0Ad8dstK/M6TWpFoC7d4bnLuC7ZPvwj4auHcJzV8jeASzLe/tSoHOc9JHnesDd17r72paWlqnVRkSkhB1IJADGDgBhZlCqQN1AEwYAM2s0s+bcNrAeeAHYCuRm8mwEHg3bW4E7w2ygdcDJ0EX0OLDezOaFwd/1IU1EpCrsHxoCxgkA4Vd/oQaCJ9MFtAj4bmiO1AB/7+4/MLOngS1mdjdwALg95H8MuBVoBwaAuwDcvcfMPgM8HfJ92t17pq0mIiIl7nQAGGcQGCCZyTBrjKmi02nCAODurwGrR0k/Dtw4SroD94xxrIeAh6ZeTBGR8rc/kSACtI0RAHJdQIWaCaSVwCIiBbJ/aIi2ujpqR1kFDG92ARVqJpACgIhIgewfGhqz/x/UAhARqVj7h4bG7P+HN8cACjUIrAAgIjKNfIwv71QmQ8c4i8AgrwWgLiARkfKy9dgxFj75JMeSybP2HUomSTP2FFDIGwNQC0BEpLz8y/Hj9KRSPNZz9gz3idYAgFoAIiJla/upUwB8//jxs/ZNKgBoDEBEpPz0p9M8399PjRmP9/QwPOJXfC4AjHUlUDhzIVghKACIiEyDnX19ZIC7Fi/mVDrNf548ecb+/YkErbW1NIyzwlfTQEVEylCu++ePly8nZnZWN9BEawBAC8FERMrS9lOnuLi+nhUNDbx77tyzAsAbkwkAagGIiJSf7X193DB7NgC/tGABrwwOsm9gAICMOweGhsZdAwAaBBYRKTudiQQdicTpAPC+BQuA7LRQgK5kkoT7uKuAgdPXCFIXkIhImcj1/9/Q3AzARQ0NXDlrFv8S1gPsn+BGMDlaCCYiUma2nzpFrRnXNDWdTnv/woX8sLeXj7e380J/PzCJAFDgFsBk7wksIiJj2N7XxzVNTdTnTfH8xPLlHB8e5ksdHafTJtsC0BiAiEgZSLuzI28AOGd2TQ0PXH45T61Zw9rmZi5vaGBOzfi/udUCEBEpIy/29xNPp7k+9P+PdP3s2fzsuuvGvEpovtpSHQMws6iZ7TKz74fXF5nZdjPbZ2b/aGaxkF4XXreH/SvyjvGJkL7XzG6a7sqIiBTazr4+AP7LGAEgJ9xXfVwRM6KU5iygjwAv5b3+PPAld18J9AJ3h/S7gV53vxT4UsiHmV0J3AGsAm4GvmpmM3/XYxGR83AsmRz31/uegQHqzFg5a9a0nC8WiZRWC8DMlgLvA/46vDbgPcC3Q5bNwG1he0N4Tdh/Y8i/AXjE3RPu/jrQDlw/HZUQEZkJbwwO0vbTn/LnBw+OmeeF/n6uaGwkOolf+JMRMyu5QeAvA38I5NolC4AT7p4KrzuAtrDdBhwECPtPhvyn00d5j4hIydnS3U3SnT994w0OhKt5jrSnv59V0/TrH7KLwUqmC8jMfgnocved+cmjZPUJ9o33nvzzbTKzHWa2o7u7e6LiiYjMmC1dXVzW0IADH2tvP2v/qVSKg4kEqxobp+2cMbOS6gJ6O/B+M3sDeIRs18+XgblmlptFtBToDNsdwDKAsH8O0JOfPsp7TnP3B9x9rbuvbWlpmXKFRESmw6uDg+yMx9l0wQX8yYUX8p1jx3h8xJ2+9oQFXldNZwAopRaAu3/C3Ze6+wqyg7g/dPcPAT8CPhCybQQeDdtbw2vC/h96dgRlK3BHmCV0EbAS+Nm01UREZBp9q6sLgA+0tPAHy5axsqGB39+3j0Tel3MuAFRyC2AsfwR8zMzayfbxPxjSHwQWhPSPAfcCuPseYAvwIvAD4B53T5/H+UVEZsyW7m7WzZ7NhfX11EUifOXSS9k3OMiWEBggOwNoViQy4VU+pyIWiZx1N7GZMqWFYO7+Y+DHYfs1RpnF4+5DwO1jvP+zwGenWkgRkULaNzDArnicL15yyem0m+bPZ1FtLY/19PCbixcD2RlAVzY2EpmmGUCQXQxWDi0AEZGK9K0wAeUDeeOQETNuWbCAx3t6SIVf6NM9AwhCF1CpjAGIiFSbLV1dvG32bJaN6Nq5df58elMptvf10TM8zOFkcloHgKEEF4KJiFSLY8kkz/X38/6FC8/a995584gCjx0/PiMDwFDYhWC6GJyISJ69g4MAvHWUL/a5tbW8fc4c/rWnh2Xh7l7THgAiEfqGh6f1mGNRC0BEJM/ecB/fy8fo279l/nx2xeNs6+2lORo9HQimiwaBRUSK5JWBAWrNxrx/763hfr/fPXaMVY2Nk7rK51SU1EIwEZFqsndwkEsbGqiJjP71+NbGRtpiMRymfQYQlM9CMBGRirN3YGDM7h/IXtc/1wqY7hlAUNiFYAoAIiJBKpOhfXCQyxoaxs33yyEA5N8EfroUcgxAs4BERIL9iQTD7uO2AAB+acECnrz2Wn5uxH2Ap0MhF4IpAIiIBBPNAMoxM942Z86MlEELwUREiuB0AJigC2gmleIdwUREKt7egQHm1dSwoLa2aGXQNFARkSLYOzjI5bNmTfvc/qmoNSMDpAvQClAAEBEJXhkYKGr3D2RbAEBBWgEKACIiQF8qRWcyOeEA8EyLhdZHIQaCFQBERIBXwkXgLit2AAgtgEIsBlMAEBGhNGYAQYm1AMys3sx+ZmbPmdkeM/tUSL/IzLab2T4z+0czi4X0uvC6PexfkXesT4T0vWZ200xVSkRkqvYODGDApUUOALW5AFAiLYAE8B53Xw1cA9xsZuuAzwNfcveVQC9wd8h/N9Dr7pcCXwr5MLMrgTuAVcDNwFfNLDqdlREROVevDA6yor6e+mhxv5ZODwKXQgvAs+LhZW14OPAe4NshfTNwW9jeEF4T9t9o2TlVG4BH3D3h7q8D7YxyU3kRkWLYOzAw4TWACiFWYi0AzCxqZs8CXcA24FXghLunQpYOoC1stwEHAcL+k8CC/PRR3iMiUnDfPHqUm597jsVPPsmueJwrZ+DqnlN1ehC4AC2ASV0LyN3TwDVmNhf4LnDFaNnC82grKHyc9DOY2SZgE8Dy5csnUzwRkSnrGR7mv7/8Msvr6rhlwQJWNzbyoUWLil2sgg4CT+licO5+wsx+DKwD5ppZTfiVvxToDNk6gGVAh5nVAHOAnrz0nPz35J/jAeABgLVr1xbmghgiUnW+d+wYKXe2rFrFdc3NxS7OabWltBDMzFrCL3/MrAH4ReAl4EfAB0K2jcCjYXtreE3Y/0N395B+R5gldBGwEvjZdFVERGQq/rGri0vq61kzA9f0Px+l1gJYAmwOM3YiwBZ3/76ZvQg8YmZ/BuwCHgz5HwT+zszayf7yvwPA3feY2RbgRSAF3BO6lkRECupYMskTvb384fLlRb3uz2gKuRBswgDg7ruBa0dJf41RZvG4+xBw+xjH+izw2akXU0Rk+vzTsWOkgV9raSl2Uc5SUgvBRETK3c6+Pp48efL06y1dXVzW0MDqEuv+gdJbCCYiUtY+2t7OO3ft4quHDnE0meRHJ07wa62tJdf9A4VdCKZbQopIxTswNETUjHv27eOhw4fJAB8swe4fKOxCMAUAEaloaXc6k0k+tnQp/ek0f9nZyRWzZrGqBBZ9jabkFoKJiJSrrmSSlDsX1tfzOxdcwDvmzGFZfX1Jdv9A6U0DFREpW4cSCQDa6uowM+4ogdW+4ymphWAiIuWsIwSApXV1RS7J5GgaqIjINCm7AKA7gomITI+ORIJaM1pqa4tdlEmJmhFBLQARkfN2KJnkgliMSIkO+o4mFoloDEBE5Hx1JBJl0/2TU2umFoCIyPkqxwAQM1MLQETkfLg7hxIJ2sotAEQiBVkIpgAgIhWrN5ViMJMpzxaAAoCIyLkrtymgOYUaBNZKYBGpWIfKNADcMn8+K+rrZ/w8CgAiUrE68i4DUU6+snJlQc6jLiARqVgdiQQGLInFil2UkjSZm8IvM7MfmdlLZrbHzD4S0ueb2TYz2xee54V0M7P7zazdzHab2Zq8Y20M+feZ2caxzikiMh0OJRIsjsVOX2BNzjSZf5UU8HF3vwJYB9xjZlcC9wJPuPtK4InwGuAWYGV4bAK+BtmAAdwH3ED2XsL35YKGiMhM6CjDKaCFNGEAcPfD7v5M2O4DXgLagA3A5pBtM3Bb2N4APOxZTwFzzWwJcBOwzd173L0X2AbcPK21ERHJU46LwAppSu0iM1sBXAtsBxa5+2HIBgmgNWRrAw7mva0jpI2VLiIyIw4lkwoA45h0ADCzJuA7wEfd/dR4WUdJ83HSR55nk5ntMLMd3d3dky2eiMgZ4qkUJ1IpBYBxTCoAmFkt2S//b7r7P4Xko6Frh/DcFdI7gGV5b18KdI6TfgZ3f8Dd17r72pYSvWmziJS+Q8kkAG2aATSmycwCMuBB4CV3/2Lerq1AbibPRuDRvPQ7w2ygdcDJ0EX0OLDezOaFwd/1IU1EZNqV6yrgQprMQrC3A78JPG9mz4a0PwY+B2wxs7uBA8DtYd9jwK1AOzAA3AXg7j1m9hng6ZDv0+7eMy21EBEZoVxXARfShAHA3f+T0fvvAW4cJb8D94xxrIeAh6ZSQBGRc1Guq4ALSasjRKQidSQSzK+poSEaLXZRSpYCgIhUpNcGB7mwABdUK2cKACJScdydZ+JxrmlqKnZRSpoCgIhUnM5kku7hYdYoAIxLAUBEKs4zfX0ArGluLnJJSpsCgIhUnGficQxYrRbAuBQARKTiPNPXx1tmzaJRM4DGpQAgIhXnmXhc/f+ToAAgIhWlK5mkI5FQ//8kKACISEXZFY8DcK1aABNSABCRipKbAaQAMDEFABGpKM/E41xcX8/c2tpiF6XkKQCISEXZ1den/v9JUgAQkYpxYniYV4eGNANokhQARKRiPBsGgNUCmBwFABGpGM9oBtCUKACISMV4Nh7ngliMVt0HeFIUAESkYuzp7+eqxsZiF6NsTOam8A+ZWZeZvZCXNt/MtpnZvvA8L6Sbmd1vZu1mttvM1uS9Z2PIv8/MNo52LhGRc5Vx56WBAVYpAEzaZFoAfwvcPCLtXuAJd18JPBFeA9wCrAyPTcDXIBswgPuAG4DrgftyQUNEZDq8PjTEYCbDlbNmFbsoZWPCAODu/w70jEjeAGwO25uB2/LSH/asp4C5ZrYEuAnY5u497t4LbOPsoCIics5e7O8HUAtgCs51DGCRux8GCM+tIb0NOJiXryOkjZUuIjIt9oQAcKUCwKRN9yCwjZLm46SffQCzTWa2w8x2dHd3T2vhRKRy7RkYYGldHXNqaopdlLJxrgHgaOjaITx3hfQOYFlevqVA5zjpZ3H3B9x9rbuvbWlpOcfiiUi1ebG/X/3/U3SuAWArkJvJsxF4NC/9zjAbaB1wMnQRPQ6sN7N5YfB3fUgTETlvmgF0biZsK5nZPwC/ACw0sw6ys3k+B2wxs7uBA8DtIftjwK1AOzAA3AXg7j1m9hng6ZDv0+4+cmBZROSc5GYAKQBMzYQBwN1/fYxdN46S14F7xjjOQ8BDUyqdiMgknB4AVhfQlGglsIiUvRc1A+icKACISNnTDKBzowAgImVvT38/q9T9M2UKACJS1tJhBpC6f6ZOAUBEytobQ0MMaQbQOVEAEJGylpsBpC6gqdOIiYiUpYw7Pzlxgi93dABwhVoAU6YAICJl54e9vfzW3r28NjTEnGiUP7voIs0AOgf6FxORsvLUyZP88vPPs7y+nm9ccQW/snAhDdFosYtVlhQARKRsvBCPc+vzz7MkFuNHq1ezuK6u2EUqaxoEFpGy8NrgIOt376YhEmGbvvynhVoAIlLyDgwNceNzz5HIZPjJNddwUUNDsYtUEdQCEKkifakUf3fkCKdSqWIXZdI6EwlufO45eoeH+bfVq7mqqanYRaoYagGIVID2gQG+3tnJ3x09ytK6On5z0SLuaG093U3i7mzp7uZj7e10JpOsbGjgO6tW8dYS/jJ1d546dYoP793LkWSSbVdfzXXNzcUuVkWx7BWcS9PatWt9x44dxS6GSEkaTKf53rFj/M2RI2zr7aXGjF9esIADQ0PsjMeJAEtiMRbHYqSBZ+Nx1jQ18bttbXzy9dc5mUpx/6WXsra5mTTQHI1y2QwtphrOZOgaHqY7maR7eJjBTIaUO2l3Lm5oYNWsWdRHo6QyGfYODvIfJ07wV4cP82w8ztyaGh696ireOXfujJStEpnZTndfO1E+tQBEZpi7k8hkqItEMDPcnYOJBM/09dGXTvMrLS00TmEaY2ciwRcOHGDz0aOcSKVYXlfHp1as4LeWLGFJ+MX/Un8/3+7u5vWhIY4kk5xIpfjqypVsuuAComa8b/58Pvjii/zWK6+ccezbW1r44iWXsLS+flJl6R0e5nvHjjGYyfC+BQu4MLzvcCLBtt5efnrqFDv6+tgdj5Mc58dmFLiwvp5DiQSJkO+tjY18/bLL+FBrK02a4z8j1AIQmQE/PXmSj7/6KgcTCbqTSRLuRIHZNTU4cCKvD35+TQ2/19bG77a1sSgWG/OYRxIJPn/wIF/v7CTlzq+1tPDhJUt499y5RMymXMZUJsO23l4SmQwRM3bF43zuwAGiwO+0tTGQTvP60BBpd369tZXbW1tpjEbpSiZ5vKeH73R38689PWd8sa9ubMSB3eHyDHOiUa5rbua65mYurq+nNRZjYW0tjdEoNaHM+wYGeK6/n70DAyyvq2N1UxPXNjWxqrERO4d6yeRbAAoAItPsm0ePcvfLL7M4FuPd8+bRUlvL3JoaBtJpTqXTpNx5a2Mj1zY1kXTniwcP8ujx4wAsravjrY2NXNPUxPXNzVw/ezYHhob4i0OH2NLdTcadjYsX88kLL5yRmTCvDw7yP9vb+f7x48ytqeGi+nr60mnaBwdpjka5pKGB5+JxHLggFuODra38Rmsrs2tq+Ofjx/n+8eNEgPXz53PTvHlc3dR0TsFJzk/JBgAzuxn4CtlW31+7++fGyqsAIOVgOJOhM5mkI5Fg67FjfOHgQd41Zw7fueoqFtTWTuoYL/f38+jx4zwfj/N8fz8vDgyQyvvbbI5GuWvxYn6/rY1LC3DRs6F0mvrQLeXuPHnyJA8eOcLrg4P84rx53LJgAdfqy71kleQYgJlFgb8E3gt0AE+b2VZ3f7GQ5ZDK4u5ndBW4O/tD3/fVTU3MGtG/3pdK8eMTJ/i/vb2cSqdZ29zMDc3NXFBXR386TTyd5kgyyf6hIQ4kEjRGo1zW0MClDQ10DQ/zXPiSfm1wkP1DQ3Qmk+T/jLp78WK+etllxCKTn2X9lsZG3pJ3MbOhdJpn43G29/UxKxLhjtZWmgvYD16f929mZrxj7lzeoUHYilPokZXrgXZ3fw3AzB4BNgAKABUs7c5wJkMmbBsQMcOAlwcG+I+TJ/l/J08yt6aGt8+Zw9vmzCEKHEkmOTo8TFeYOdIzPExdJMKcmhpqzNgdj/Ozvj72DgywoLaWpXV1NEWjvNDfT2/oY48Cq5uauKShga5kks5kkteHhki50xCJ0ByN8rdHjoxZ9iiQHiV9aV0dKxsa+MV581heX8/yujqW1tVxUUMDlzU0nHffdX00yro5c1g3Z855HUdkPIUOAG3AwbzXHcAN032S3fE4v/LCC2elj/yjHPknOtHrcznGTMmQvRxuhuwv3jPKEL5cc4/cly2Ah0fanYw76bzjRIHaSISaMFMl94Wde86dJZI7dt558vMNh0cykyGRyYz6BTrSsro6TqRS/NXhw2PmmRWJnHG81tpabpg9mw0LF9IzPExHIsHJVIrbW1pY09zMotpadvT18dNTp9gVj7MkFmNNUxO3t7Rw47x5vG32bOoiEQ4mEmw/dYrjw8M019TQGInQEotxYV0dS+rqGAx94O2DgyyoreXqpqZJd+2IlLJCB4DRvh/P+PYys03AJoDly5ef00maolHWzZ499kkm83qUsZGpHmMmGRA1O/1lnF+G04/wpZ0Z8d4I2aAQzT2HL/Lcl3fK/XSeSO48YTt37Ew4du480XCcCNkgUmtGzIy6SIS68Dq3n1CmtDvL6+v5+TlzWF5fT9qdPf39bD91iqgZi2MxFsVitNbW0lJbS300irszmMkwmMkwv6Zmwl/at7W0TPhvuby+nuXjTHtsqqnhmuZmrtEiJKkwhQ4AHcCyvNdLgc78DO7+APAAZAeBz+UkFzc08I0rrzzXMkqRRM0hVhDRAAAFaUlEQVS4uqmJq8dZnWpmzIpGz+rXF5GpK/S1gJ4GVprZRWYWA+4Atha4DCIiQoFbAO6eMrPfAx4n2+X8kLvvKWQZREQkq+Drq939MeCxQp9XRETOpMtBi4hUKQUAEZEqpQAgIlKlFABERKqUAoCISJUq6ctBm1k3sL/Y5ZiihcCxYheiAKqlnlA9da2WekLl1/VCd59wGXxJB4ByZGY7JnMZ1nJXLfWE6qlrtdQTqquu41EXkIhIlVIAEBGpUgoA0++BYhegQKqlnlA9da2WekJ11XVMGgMQEalSagGIiFQpBYAJmNlDZtZlZi/kpa02s5+a2fNm9s9mNjukv9fMdob0nWb2nrz3XBfS283sfjvfewbOgKnUNW//cjOLm9kf5KXdbGZ7Q13vLWQdJmOq9TSzq8O+PWF/fUivqM/UzGrNbHNIf8nMPpH3nlL/TJeZ2Y9CufeY2UdC+nwz22Zm+8LzvJBu4TNrN7PdZrYm71gbQ/59ZraxWHUqCHfXY5wH8E5gDfBCXtrTwLvC9oeBz4Tta4ELwvZVwKG89/wM+DmyN/D6V+CWYtftfOqat/87wLeAPwivo8CrwMVADHgOuLLYdTuPz7QG2A2sDq8XANFK/EyB3wAeCduzgDeAFWXymS4B1oTtZuAV4ErgC8C9If1e4PNh+9bwmRmwDtge0ucDr4XneWF7XrHrN1MPtQAm4O7/DvSMSL4c+PewvQ341ZB3l7vn7nC2B6g3szozWwLMdvefevZ/2cPAbTNf+qmZSl0BzOw2sn8g+fd0uB5od/fX3D0JPAJsmLFCn4Mp1nM9sNvdnwvvPe7u6Qr9TB1oNLMaoAFIAqcoj8/0sLs/E7b7gJfI3oN8A7A5ZNvMm5/RBuBhz3oKmBs+05uAbe7e4+69ZP99bi5gVQpKAeDcvAC8P2zfzpm3ucz5VWCXuyfI/kfsyNvXEdLKwah1NbNG4I+AT43I3wYczHtdLnUd6zO9DHAze9zMnjGzPwzpFfeZAt8G+oHDwAHgz929hzL7TM1sBdnW+HZgkbsfhmyQAFpDtrHqVFZ1PV8KAOfmw8A9ZraTbHMzmb/TzFYBnwd+O5c0yjHKZfrVWHX9FPAld4+PyF+udR2rnjXAO4APhef/amY3Ur71hLHrej2QBi4ALgI+bmYXU0Z1NbMmst2SH3X3U+NlHSXNx0mvSAW/I1glcPeXyXYNYGaXAe/L7TOzpcB3gTvd/dWQ3AEszTvEUqCTMjBOXW8APmBmXwDmAhkzGwJ2cmaLqCzqOk49O4CfuPuxsO8xsn3q36DyPtPfAH7g7sNAl5k9Cawl+4u45D9TM6sl++X/TXf/p5B81MyWuPvh0MXTFdI7GL1OHcAvjEj/8UyWu5jUAjgHZtYaniPAJ4Gvh9dzgX8BPuHuT+byh6Znn5mtCzNF7gQeLXjBz8FYdXX3n3f3Fe6+Avgy8H/c/S/IDjCuNLOLzCwG3AFsLUrhp2CsepK9f/XVZjYr9I2/C3ixEj9Tst0+7wkzZBrJDo6+TBl8puEzeBB4yd2/mLdrK5CbybORNz+jrcCdoa7rgJPhM30cWG9m88KMofUhrTIVexS61B/AP5DtEx0m++vgbuAjZGcZvAJ8jjcX1H2SbB/qs3mP1rBvLdm+11eBv8i9p5QeU6nriPf9KWEWUHh9a8j/KvAnxa7X+dYT+G9kB7pfAL6Ql15RnynQRHZG1x7gReB/ldFn+g6yXTW78/72biU7a+sJYF94nh/yG/CXoT7PA2vzjvVhoD087ip23WbyoZXAIiJVSl1AIiJVSgFARKRKKQCIiFQpBQARkSqlACAiUqUUAEREqpQCgIhIlVIAEBGpUv8fCixEnU5+OOYAAAAASUVORK5CYII=\n",
      "text/plain": [
       "<Figure size 432x288 with 1 Axes>"
>>>>>>> f4e2df9bea9908523f3e4f0c2b1641ffa9c27782
      ]
     },
     "metadata": {
      "needs_background": "light"
     },
     "output_type": "display_data"
    }
   ],
   "source": [
    "temp = df.year.value_counts()\n",
    "sns.lineplot(temp.index, temp.values, color=\"c\")"
   ]
  },
  {
   "cell_type": "code",
<<<<<<< HEAD
   "execution_count": 22,
   "metadata": {},
   "outputs": [
    {
     "data": {
      "text/plain": [
       "<matplotlib.axes._subplots.AxesSubplot at 0x11e9a0080>"
      ]
     },
     "execution_count": 22,
     "metadata": {},
     "output_type": "execute_result"
    },
    {
     "data": {
      "image/png": "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\n",
      "text/plain": [
       "<matplotlib.figure.Figure at 0x11e9c0240>"
      ]
     },
     "metadata": {},
     "output_type": "display_data"
    }
   ],
   "source": [
    "temp1 = temp[temp.index > 1985]\n",
    "sns.lineplot(temp1.index, temp1.values, color=\"c\")"
   ]
  },
  {
   "cell_type": "code",
   "execution_count": 87,
=======
   "execution_count": 8,
>>>>>>> f4e2df9bea9908523f3e4f0c2b1641ffa9c27782
   "metadata": {},
   "outputs": [
    {
     "data": {
      "text/plain": [
       "<matplotlib.axes._subplots.AxesSubplot at 0x1a1768d7f0>"
      ]
     },
     "execution_count": 8,
     "metadata": {},
     "output_type": "execute_result"
    },
    {
     "data": {
      "image/png": "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\n",
      "text/plain": [
       "<Figure size 432x288 with 1 Axes>"
      ]
     },
     "metadata": {
      "needs_background": "light"
     },
     "output_type": "display_data"
    }
   ],
   "source": [
    "temp = df.month.value_counts()\n",
    "sns.barplot(temp.index, temp.values, color=\"c\")"
   ]
  },
  {
   "cell_type": "code",
   "execution_count": 9,
   "metadata": {},
   "outputs": [
    {
     "data": {
      "text/plain": [
       "<matplotlib.axes._subplots.AxesSubplot at 0x1a18442240>"
      ]
     },
     "execution_count": 9,
     "metadata": {},
     "output_type": "execute_result"
    },
    {
     "data": {
      "image/png": "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\n",
      "text/plain": [
       "<Figure size 432x288 with 1 Axes>"
      ]
     },
     "metadata": {
      "needs_background": "light"
     },
     "output_type": "display_data"
    }
   ],
   "source": [
    "temp = df.day.value_counts()\n",
    "sns.lineplot(temp.index, temp.values, color=\"c\")"
   ]
  },
  {
   "cell_type": "code",
   "execution_count": 10,
   "metadata": {},
   "outputs": [
    {
     "data": {
      "text/plain": [
       "<matplotlib.axes._subplots.AxesSubplot at 0x1a184a2550>"
      ]
     },
     "execution_count": 10,
     "metadata": {},
     "output_type": "execute_result"
    },
    {
     "data": {
      "image/png": "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\n",
      "text/plain": [
       "<Figure size 432x288 with 1 Axes>"
      ]
     },
     "metadata": {
      "needs_background": "light"
     },
     "output_type": "display_data"
    }
   ],
   "source": [
    "temp = df.hour.value_counts()\n",
    "sns.lineplot(temp.index, temp.values, color=\"c\")"
   ]
  },
  {
   "cell_type": "markdown",
   "metadata": {},
   "source": [
    "### Do clusters of UFO sightings correlate with landmarks, such as airports or government research centers?"
   ]
  },
  {
   "cell_type": "code",
   "execution_count": null,
   "metadata": {},
   "outputs": [],
   "source": []
  },
  {
   "cell_type": "markdown",
   "metadata": {},
   "source": [
    "### What are the most common UFO descriptions?"
   ]
  },
  {
   "cell_type": "code",
   "execution_count": null,
   "metadata": {},
   "outputs": [],
   "source": []
  },
  {
   "cell_type": "markdown",
   "metadata": {},
   "source": [
    "Top 5 most common shapes (most common is light, correlation with airports???)"
   ]
  },
  {
   "cell_type": "code",
   "execution_count": 14,
   "metadata": {},
   "outputs": [
    {
     "name": "stdout",
     "output_type": "stream",
     "text": [
      "light        16237\n",
      "triangle      7805\n",
      "circle        7455\n",
      "fireball      6012\n",
      "unknown       5719\n",
      "other         5554\n",
      "disk          5238\n",
      "sphere        5151\n",
      "oval          3679\n",
      "formation     2394\n",
      "cigar         1980\n",
      "changing      1929\n",
      "flash         1342\n",
      "rectangle     1280\n",
      "cylinder      1246\n",
      "diamond       1152\n",
      "chevron        948\n",
      "egg            724\n",
      "teardrop       714\n",
      "cone           313\n",
      "cross          237\n",
      "delta            8\n",
      "crescent         2\n",
      "round            2\n",
      "flare            1\n",
      "changed          1\n",
      "hexagon          1\n",
      "pyramid          1\n",
      "Name: shape, dtype: int64\n"
     ]
    },
    {
     "data": {
      "text/plain": [
       "<matplotlib.axes._subplots.AxesSubplot at 0x1a18762668>"
      ]
     },
     "execution_count": 14,
     "metadata": {},
     "output_type": "execute_result"
    },
    {
     "data": {
      "image/png": "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\n",
      "text/plain": [
       "<Figure size 432x288 with 1 Axes>"
      ]
     },
     "metadata": {
      "needs_background": "light"
     },
     "output_type": "display_data"
    }
   ],
   "source": [
    "shape_counts = df['shape'].value_counts()\n",
    "print(shape_counts)\n",
    "\n",
    "temp = df['shape'].value_counts()[:5]\n",
    "sns.barplot(temp.index, temp.values, color=\"c\")"
   ]
  }
 ],
 "metadata": {
  "kernelspec": {
   "display_name": "Python 3",
   "language": "python",
   "name": "python3"
  },
  "language_info": {
   "codemirror_mode": {
    "name": "ipython",
    "version": 3
   },
   "file_extension": ".py",
   "mimetype": "text/x-python",
   "name": "python",
   "nbconvert_exporter": "python",
   "pygments_lexer": "ipython3",
   "version": "3.7.0"
  }
 },
 "nbformat": 4,
 "nbformat_minor": 2
}
