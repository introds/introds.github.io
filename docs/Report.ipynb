{
 "cells": [
  {
   "cell_type": "markdown",
   "metadata": {},
   "source": [
    "# UFO-tracker Report\n",
    "\n",
    "\n",
    "## General description\n",
    "\n",
    "UFO tracker is an application to track and predict UFO locations based on over 80,000 UFO sighting reports. We also analysed the data to get different statistics and insights out of all these reports.\n",
    "\n",
    "## Tools used\n",
    "\n",
    "* Python\n",
    "* JacaScript\n",
    "* Angular\n",
    "\n",
    "## What we did\n",
    "\n",
    "Jukka-Pekka was mostly in charge of the web/js/angular side of the project, while Tomi and Thang took mostly care of the data handling side.\n",
    "\n",
    "### Cleaning and polishing (notebooks/ufo-cleaning.ipynb)\n",
    "\n",
    "We used Panda and Numpy Python libraries to read in and handle the data. The data had to be cleaned first; we ignored erroneus and blank fields of the location (coordinates) and time data (which was not a lot: 0.8% for locations and 8% for time info). We dropped columns that were not providing any relevant information for our purposes (date posted, duration in hrs/min since we have one in seconds). There was some city, country and state info missing so we filled in some blanks by getting the missing country data by checking whether state is one in the US; this got us from ~12k missing countries to ~4k missing countries. Then we converted date info to datetime objects separating hour, day, month and year into own columns for direct accessing. We wrote the cleaned data to new csv file for the data handling.\n",
    "\n",
    "### Data exploration (notebooks/ufo-exploration.ipynb and notebooks/ufo_description_processing.ipynb)\n",
    "\n",
    "Reading the data from cleaned file we did some quite straightforward plotting to reveal insights of the data. We exposed the top countries regarding sightings (USA having the big majority of all the sightings) and the top states of USA (california having more than twice the amount of its followers; florida, washington etc.). We plotted UFO sights per year (increased massively since 1990), per month (peaking in august/winter), per day (peaking in the beginning and middle of month) and per hour (most sightings in evening/night). We plotted most commonly described shapes top 5 being light, triangle, circle, fireball and unkown.\n",
    "\n",
    "We did some text analysing on the freely written descriptions made by the one who claimed to see UFOs in a typical text handling manner: Everything into lower caps, removing punctuations and stopwords and stemming everything. This was then written into a text file inorder to get tf/idf for the words and plotting the highest scoring ones into a wordcloud.\n",
    "\n",
    "UFO location prediction is done using K-means clustering calculating multiple \"best\" locations for UFO sightings.\n",
    "\n",
    "### The map app\n",
    "\n",
    "Getting locations from the reports, we show UFO sights on the map per year or as a total count from 1906 to 2014 (adjustable by slider). Current probability and \"best\" location to see a UFO on a selected date is provided as well based on K-means clustering.\n",
    "\n",
    "## Lacks and possible improvements\n",
    "\n",
    "* Take airport and military base locations into account (lower the probability for \"real UFO sighting\" if close to airport, analyse correlation with old UFO sightings)\n",
    "* Take present weather info into account for predictions and analyse old weather data and see if correlations with testimonies and weather phenomena\n",
    "* UFO reports are based on subjective testimonies without knowledge of subjects mental health ect, no guarantee of prediction accuracy\n",
    "\n",
    "## The team\n",
    "\n",
    "* Thang Nguyen\n",
    "* Tomi Rikander\n",
    "* Jukka-Pekka Seppänen"
   ]
  }
 ],
 "metadata": {
  "kernelspec": {
   "display_name": "Python 3",
   "language": "python",
   "name": "python3"
  },
  "language_info": {
   "codemirror_mode": {
    "name": "ipython",
    "version": 3
   },
   "file_extension": ".py",
   "mimetype": "text/x-python",
   "name": "python",
   "nbconvert_exporter": "python",
   "pygments_lexer": "ipython3",
   "version": "3.7.0"
  }
 },
 "nbformat": 4,
 "nbformat_minor": 2
}
